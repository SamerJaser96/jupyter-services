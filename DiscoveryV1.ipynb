{
 "cells": [
  {
   "cell_type": "markdown",
   "metadata": {},
   "source": [
    "# Discovery"
   ]
  },
  {
   "cell_type": "code",
   "execution_count": null,
   "metadata": {},
   "outputs": [],
   "source": [
    "pip install --upgrade \"ibm-watson>=3.2.0\""
   ]
  },
  {
   "cell_type": "code",
   "execution_count": null,
   "metadata": {},
   "outputs": [],
   "source": [
    "import os\n",
    "import json\n",
    "from ibm_watson import DiscoveryV1\n",
    "\n",
    "discovery = DiscoveryV1(\n",
    "    version='2018-10-15',\n",
    "    iam_apikey='{api_key}',\n",
    "    url='{url}'\n",
    ")\n",
    "\n",
    "def setupDiscoveryV1():\n",
    "\n",
    "    version = \"2018-10-15\"\n",
    "    api_key = \"{api_key}\"\n",
    "\n",
    "    discovery = DiscoveryV1(version= version, iam_apikey= api_key)\n",
    "\n",
    "    return discovery\n",
    "\n",
    "\n",
    "def getEnvironmentID():\n",
    "\n",
    "    discovery = setupDiscoveryV1()\n",
    "\n",
    "    environmentID = discovery.list_environments()\n",
    "    #print(environmentID.result['environments'][0])\n",
    "    environmentID = environmentID.result['environments'][0]['environment_id']\n",
    "    if (environmentID == None): \n",
    "            discovery.create_environment(name = \"my_environment\", description = \"My environment\")\n",
    "\n",
    "            environmentID = environment.environmentID\n",
    "        \n",
    "\n",
    "    return environmentID\n",
    "\n",
    "def getConfigurationID(environmentID):\n",
    "\n",
    "    discovery = setupDiscoveryV1()\n",
    "\n",
    "    configurationID = discovery.list_configurations(environment_id = environmentID) \n",
    "    print(configurationID.result['configurations'])\n",
    "    if not configurationID.result['configurations']:\n",
    "        discovery.create_configuration(environment_id= environmentID, name= \"my_config\", description= \"my_config\") \n",
    "        configurationID = configuration.configurationID\n",
    "    else:\n",
    "        configurationID = configurationID.result['configurations'][0]['configurationID']\n",
    "\n",
    "    return configurationID\n",
    "\n",
    "    \n"
   ]
  },
  {
   "cell_type": "markdown",
   "metadata": {},
   "source": [
    "## Collections"
   ]
  },
  {
   "cell_type": "markdown",
   "metadata": {},
   "source": [
    "### Create a collection"
   ]
  },
  {
   "cell_type": "code",
   "execution_count": null,
   "metadata": {},
   "outputs": [],
   "source": [
    "new_collection = discovery.create_collection(environment_id=env, configuration_id='{configuration_id}', name='{collection_name}', description='{collection_desc}', language='{collection_lang}').get_result()\n",
    "print(json.dumps(new_collection, indent=2))"
   ]
  },
  {
   "cell_type": "markdown",
   "metadata": {},
   "source": [
    "### List collections"
   ]
  },
  {
   "cell_type": "code",
   "execution_count": null,
   "metadata": {},
   "outputs": [],
   "source": [
    "collections = discovery.list_collections('{environment_id}').get_result()\n",
    "print(json.dumps(collections, indent=2))"
   ]
  },
  {
   "cell_type": "markdown",
   "metadata": {},
   "source": [
    "### Get collection details"
   ]
  },
  {
   "cell_type": "code",
   "execution_count": null,
   "metadata": {},
   "outputs": [],
   "source": [
    "collection = discovery.get_collection('{environment_id}', '{collection_id}').get_result()\n",
    "print(json.dumps(collection, indent=2))"
   ]
  },
  {
   "cell_type": "markdown",
   "metadata": {},
   "source": [
    "### Update a collection"
   ]
  },
  {
   "cell_type": "code",
   "execution_count": null,
   "metadata": {},
   "outputs": [],
   "source": [
    "updated_collection = discovery.update_collection(environment_id='{environment_id}', collection_id='{collection_id}', configuration_id='{configuration_id}', name='{collection_name}', description='{collection_desc}',).get_result()\n",
    "print(json.dumps(updated_collection, indent=2))"
   ]
  },
  {
   "cell_type": "markdown",
   "metadata": {},
   "source": [
    "### Delete a collection"
   ]
  },
  {
   "cell_type": "code",
   "execution_count": null,
   "metadata": {},
   "outputs": [],
   "source": [
    "delete_collection = discovery.delete_collection('{environment_id}', '{collection_id}').get_result()\n",
    "print(json.dumps(delete_collection, indent=2))"
   ]
  },
  {
   "cell_type": "markdown",
   "metadata": {},
   "source": [
    "### List collection fields"
   ]
  },
  {
   "cell_type": "code",
   "execution_count": null,
   "metadata": {},
   "outputs": [],
   "source": [
    "collection_fields = discovery.list_collection_fields('{environment_id}', '{collection_id}').get_result()\n",
    "print(json.dumps(collection_fields, indent=2))"
   ]
  },
  {
   "cell_type": "markdown",
   "metadata": {},
   "source": [
    "## Configurations"
   ]
  },
  {
   "cell_type": "markdown",
   "metadata": {},
   "source": [
    "### Add configuration"
   ]
  },
  {
   "cell_type": "code",
   "execution_count": null,
   "metadata": {},
   "outputs": [],
   "source": [
    "with open(os.path.join(os.getcwd(), 'config.json')) as config_data:\n",
    "    data = json.load(config_data)\n",
    "    new_config = discovery.create_configuration('{environment_id}', data['name'], data['description'], data['conversions'], data['enrichments'], data['normalizations']).get_result()\n",
    "print(json.dumps(new_config, indent=2))"
   ]
  },
  {
   "cell_type": "markdown",
   "metadata": {},
   "source": [
    "### List configurations"
   ]
  },
  {
   "cell_type": "code",
   "execution_count": null,
   "metadata": {},
   "outputs": [],
   "source": [
    "configs = discovery.list_configurations('{environment_id}').get_result()\n",
    "print(json.dumps(configs, indent=2))"
   ]
  },
  {
   "cell_type": "markdown",
   "metadata": {},
   "source": [
    "### Get configuration details"
   ]
  },
  {
   "cell_type": "code",
   "execution_count": null,
   "metadata": {},
   "outputs": [],
   "source": [
    "config = discovery.get_configuration('{environment_id}', '{configuration_id}').get_result()\n",
    "print(json.dumps(config, indent=2))"
   ]
  },
  {
   "cell_type": "markdown",
   "metadata": {},
   "source": [
    "### Update a configuration"
   ]
  },
  {
   "cell_type": "code",
   "execution_count": null,
   "metadata": {},
   "outputs": [],
   "source": [
    "with open(os.path.join(os.getcwd(), 'config_update.json')) as config_data:\n",
    "    data = json.load(config_data)\n",
    "    updated_config = discovery.update_configuration('{environment_id}', '{configuration_id}', data['name'], data['description'], data['conversions'], data['enrichments'], data['normalizations']).get_result()\n",
    "print(json.dumps(updated_config, indent=2))"
   ]
  },
  {
   "cell_type": "markdown",
   "metadata": {},
   "source": [
    "### Delete a configuration"
   ]
  },
  {
   "cell_type": "code",
   "execution_count": null,
   "metadata": {},
   "outputs": [],
   "source": [
    "config_delete = discovery.delete_configuration('{environment_id}', '{configuration_id}').get_result()\n",
    "print(json.dumps(config_delete, indent=2))"
   ]
  },
  {
   "cell_type": "markdown",
   "metadata": {},
   "source": [
    "## Credentials"
   ]
  },
  {
   "cell_type": "code",
   "execution_count": null,
   "metadata": {},
   "outputs": [],
   "source": [
    "#..."
   ]
  },
  {
   "cell_type": "markdown",
   "metadata": {},
   "source": [
    "## Documents"
   ]
  },
  {
   "cell_type": "markdown",
   "metadata": {},
   "source": [
    "### Add a document"
   ]
  },
  {
   "cell_type": "code",
   "execution_count": null,
   "metadata": {},
   "outputs": [],
   "source": [
    "with open(os.path.join(os.getcwd(), '{path_element}', '{filename}')) as fileinfo:\n",
    "    add_doc = discovery.add_document('{environment_id}', '{collection_id}', file=fileinfo).get_result()\n",
    "print(json.dumps(add_doc, indent=2))"
   ]
  },
  {
   "cell_type": "markdown",
   "metadata": {},
   "source": [
    "### Get document details"
   ]
  },
  {
   "cell_type": "code",
   "execution_count": null,
   "metadata": {},
   "outputs": [],
   "source": [
    "doc_info = discovery.get_document_status('{environment_id}', '{collection_id}', '{document_id}').get_result()\n",
    "print(json.dumps(doc_info, indent=2))"
   ]
  },
  {
   "cell_type": "markdown",
   "metadata": {},
   "source": [
    "### Update a document"
   ]
  },
  {
   "cell_type": "code",
   "execution_count": null,
   "metadata": {},
   "outputs": [],
   "source": [
    "with open(os.path.join(os.getcwd(), '{path_element}', '{filename}')) as fileinfo:\n",
    "    add_doc = discovery.update_document('{environment_id}', '{collection_id}', '{document_id}', file=fileinfo).get_result()\n",
    "print(json.dumps(add_doc, indent=2))"
   ]
  },
  {
   "cell_type": "markdown",
   "metadata": {},
   "source": [
    "### Delete a document"
   ]
  },
  {
   "cell_type": "code",
   "execution_count": null,
   "metadata": {},
   "outputs": [],
   "source": [
    "delete_doc = discovery.delete_document('{environment_id}', '{collection_id}', '{document_id}').get_result()\n",
    "print(json.dumps(delete_doc, indent=2))"
   ]
  },
  {
   "cell_type": "markdown",
   "metadata": {},
   "source": [
    "# Enviroments"
   ]
  },
  {
   "cell_type": "markdown",
   "metadata": {},
   "source": [
    "## Create an enviroment"
   ]
  },
  {
   "cell_type": "code",
   "execution_count": null,
   "metadata": {},
   "outputs": [],
   "source": [
    "response = discovery.create_environment(\n",
    "    name=\"my_environment\",\n",
    "    description=\"My environment\"\n",
    ").get_result()\n",
    "\n",
    "print(json.dumps(response, indent=2))"
   ]
  },
  {
   "cell_type": "markdown",
   "metadata": {},
   "source": [
    "## List enviroments"
   ]
  },
  {
   "cell_type": "code",
   "execution_count": null,
   "metadata": {},
   "outputs": [],
   "source": [
    "environments = discovery.list_environments().get_result()\n",
    "print(json.dumps(environments, indent=2))\n",
    "\n",
    "system_environments = [x for x in environments['environments'] if x['name'] == 'Watson System Environment']\n",
    "system_environment_id = system_environments[0]['environment_id']\n",
    "\n",
    "collections = discovery.list_collections(system_environment_id).get_result()\n",
    "system_collections = [x for x in collections['collections']]\n",
    "print(json.dumps(system_collections, indent=2))"
   ]
  },
  {
   "cell_type": "markdown",
   "metadata": {},
   "source": [
    "## Get enviroment info"
   ]
  },
  {
   "cell_type": "code",
   "execution_count": null,
   "metadata": {},
   "outputs": [],
   "source": [
    "environment_info = discovery.get_environment('{environment_id}').get_result()\n",
    "print(json.dumps(environment_info, indent=2))"
   ]
  },
  {
   "cell_type": "markdown",
   "metadata": {},
   "source": [
    "## Update an enviroment"
   ]
  },
  {
   "cell_type": "code",
   "execution_count": null,
   "metadata": {},
   "outputs": [],
   "source": [
    "new_name = discovery.update_environment('{environment_id}', 'Updated name', 'Updated description').get_result()\n",
    "\n",
    "print(json.dumps(new_name, indent=2))"
   ]
  },
  {
   "cell_type": "markdown",
   "metadata": {},
   "source": [
    "## Delete enviroment"
   ]
  },
  {
   "cell_type": "code",
   "execution_count": null,
   "metadata": {},
   "outputs": [],
   "source": [
    "del_env = discovery.delete_environment('{environment_id}').get_result()\n",
    "print(json.dumps(del_env, indent=2))"
   ]
  },
  {
   "cell_type": "markdown",
   "metadata": {},
   "source": [
    "## List fields across collections"
   ]
  },
  {
   "cell_type": "code",
   "execution_count": null,
   "metadata": {},
   "outputs": [],
   "source": [
    "fields = discovery.list_fields('{environment_id}', ['{collection_id1}','{collection_id2}']).get_result()\n",
    "print(json.dumps(fields, indent=2))"
   ]
  },
  {
   "cell_type": "markdown",
   "metadata": {},
   "source": [
    "# Events and feedback"
   ]
  },
  {
   "cell_type": "code",
   "execution_count": null,
   "metadata": {},
   "outputs": [],
   "source": [
    "#..."
   ]
  },
  {
   "cell_type": "markdown",
   "metadata": {},
   "source": [
    "# Gateway configuration"
   ]
  },
  {
   "cell_type": "code",
   "execution_count": null,
   "metadata": {},
   "outputs": [],
   "source": [
    "#..."
   ]
  },
  {
   "cell_type": "markdown",
   "metadata": {},
   "source": [
    "## Queries"
   ]
  },
  {
   "cell_type": "code",
   "execution_count": null,
   "metadata": {},
   "outputs": [],
   "source": [
    "#..."
   ]
  },
  {
   "cell_type": "markdown",
   "metadata": {},
   "source": [
    "## Query modifications"
   ]
  },
  {
   "cell_type": "code",
   "execution_count": null,
   "metadata": {},
   "outputs": [],
   "source": [
    "#..."
   ]
  },
  {
   "cell_type": "markdown",
   "metadata": {},
   "source": [
    "## Test your configuration on a document"
   ]
  },
  {
   "cell_type": "markdown",
   "metadata": {},
   "source": [
    "### Test configuration"
   ]
  },
  {
   "cell_type": "code",
   "execution_count": null,
   "metadata": {},
   "outputs": [],
   "source": [
    "with open(os.path.join(os.getcwd(), 'resources', 'sample1.html')) as fileinfo:\n",
    "    print(json.dumps(discovery.test_configuration_in_environment(environment_id='{environment_id}', configuration_id='{configuration_id}', file=fileinfo).get_result(), indent=2))"
   ]
  },
  {
   "cell_type": "code",
   "execution_count": null,
   "metadata": {},
   "outputs": [],
   "source": [
    "#...\n"
   ]
  },
  {
   "cell_type": "markdown",
   "metadata": {},
   "source": [
    "# User data"
   ]
  },
  {
   "cell_type": "markdown",
   "metadata": {},
   "source": [
    "## Delete labeled data"
   ]
  },
  {
   "cell_type": "code",
   "execution_count": null,
   "metadata": {},
   "outputs": [],
   "source": [
    "discovery.delete_user_data(\n",
    "    customer_id = '{id}'\n",
    ").get_result()"
   ]
  }
 ],
 "metadata": {
  "kernelspec": {
   "display_name": "Python 3",
   "language": "python",
   "name": "python3"
  },
  "language_info": {
   "codemirror_mode": {
    "name": "ipython",
    "version": 3
   },
   "file_extension": ".py",
   "mimetype": "text/x-python",
   "name": "python",
   "nbconvert_exporter": "python",
   "pygments_lexer": "ipython3",
   "version": "3.7.4"
  }
 },
 "nbformat": 4,
 "nbformat_minor": 2
}
