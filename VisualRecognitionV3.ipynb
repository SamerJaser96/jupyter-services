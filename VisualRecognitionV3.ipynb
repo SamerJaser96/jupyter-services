{
 "cells": [
  {
   "cell_type": "markdown",
   "metadata": {},
   "source": [
    "# Visual recognition"
   ]
  },
  {
   "cell_type": "code",
   "execution_count": null,
   "metadata": {},
   "outputs": [],
   "source": [
    "pip install --upgrade \"ibm-watson>=3.2.0\""
   ]
  },
  {
   "cell_type": "code",
   "execution_count": null,
   "metadata": {},
   "outputs": [],
   "source": [
    "import json\n",
    "from ibm_watson import VisualRecognitionV3\n",
    "\n",
    "visual_recognition = VisualRecognitionV3(\n",
    "    version='{version}',\n",
    "    iam_apikey='{apikey}'\n",
    ")"
   ]
  },
  {
   "cell_type": "markdown",
   "metadata": {},
   "source": [
    "## General"
   ]
  },
  {
   "cell_type": "markdown",
   "metadata": {},
   "source": [
    "### Classify images"
   ]
  },
  {
   "cell_type": "code",
   "execution_count": null,
   "metadata": {},
   "outputs": [],
   "source": [
    "with open('./fruitbowl.jpg', 'rb') as images_file:\n",
    "    classes = visual_recognition.classify(\n",
    "        images_file,\n",
    "        threshold='0.6',\n",
    "        owners=[\"me\"]).get_result()\n",
    "    print(json.dumps(classes, indent=2))"
   ]
  },
  {
   "cell_type": "markdown",
   "metadata": {},
   "source": [
    "## Face"
   ]
  },
  {
   "cell_type": "markdown",
   "metadata": {},
   "source": [
    "### Detect faces in images"
   ]
  },
  {
   "cell_type": "code",
   "execution_count": null,
   "metadata": {},
   "outputs": [],
   "source": [
    "with open('./Ginni_Rometty.jpg', 'rb') as images_file:\n",
    "    faces = visual_recognition.detect_faces(images_file).get_result()\n",
    "print(json.dumps(faces, indent=2))"
   ]
  },
  {
   "cell_type": "markdown",
   "metadata": {},
   "source": [
    "## Custom"
   ]
  },
  {
   "cell_type": "markdown",
   "metadata": {},
   "source": [
    "### Create a classifier"
   ]
  },
  {
   "cell_type": "code",
   "execution_count": null,
   "metadata": {},
   "outputs": [],
   "source": [
    "with open('./beagle.zip', 'rb') as beagle, open(\n",
    "        './golden-retriever.zip', 'rb') as goldenretriever, open(\n",
    "            './husky.zip', 'rb') as husky, open(\n",
    "                './cats.zip', 'rb') as cats:\n",
    "    model = visual_recognition.create_classifier(\n",
    "        'dogs',\n",
    "        positive_examples={'beagle': beagle, 'goldenretriever': goldenretriever, 'husky': husky},\n",
    "        negative_examples=cats).get_result()\n",
    "print(json.dumps(model, indent=2))"
   ]
  },
  {
   "cell_type": "markdown",
   "metadata": {},
   "source": [
    "### Retrieve a list of classifiers"
   ]
  },
  {
   "cell_type": "code",
   "execution_count": null,
   "metadata": {},
   "outputs": [],
   "source": [
    "classifiers = visual_recognition.list_classifiers(verbose=True).get_result()\n",
    "print(json.dumps(classifiers, indent=2))"
   ]
  },
  {
   "cell_type": "markdown",
   "metadata": {},
   "source": [
    "### Retrieve classifier details"
   ]
  },
  {
   "cell_type": "code",
   "execution_count": null,
   "metadata": {},
   "outputs": [],
   "source": [
    "classifier = visual_recognition.get_classifier(\n",
    "    classifier_id='dogs_1477088859').get_result()\n",
    "print(json.dumps(classifier, indent=2))"
   ]
  },
  {
   "cell_type": "markdown",
   "metadata": {},
   "source": [
    "### Update a classifer"
   ]
  },
  {
   "cell_type": "code",
   "execution_count": null,
   "metadata": {},
   "outputs": [],
   "source": [
    "with open('./dalmatian.zip', 'rb') as dalmatian, open(\n",
    "        './more-cats.zip', 'rb') as more_cats:\n",
    "    updated_model = visual_recognition.update_classifier(\n",
    "        classifier_id='dogs_1477088859',\n",
    "        positive_examples={'dalmatian_positive_examples':dalmatian},\n",
    "        negative_examples=more_cats).get_result()\n",
    "print(json.dumps(updated_model, indent=2))"
   ]
  },
  {
   "cell_type": "markdown",
   "metadata": {},
   "source": [
    "### Delete a classifier"
   ]
  },
  {
   "cell_type": "code",
   "execution_count": null,
   "metadata": {},
   "outputs": [],
   "source": [
    "visual_recognition.delete_classifier('dogs_1477088859')"
   ]
  },
  {
   "cell_type": "markdown",
   "metadata": {},
   "source": [
    "## Core ML"
   ]
  },
  {
   "cell_type": "markdown",
   "metadata": {},
   "source": [
    "### Retrieve a core ML model for a classifier"
   ]
  },
  {
   "cell_type": "code",
   "execution_count": null,
   "metadata": {},
   "outputs": [],
   "source": [
    "core_ml_model = visual_recognition.get_core_ml_model(\n",
    "    classifier_id='dogs_1477088859').get_result()\n",
    "with open('/tmp/dogs_1477088859.mlmodel', 'wb') as fp:\n",
    "    fp.write(core_ml_model.content)"
   ]
  },
  {
   "cell_type": "markdown",
   "metadata": {},
   "source": [
    "## User data"
   ]
  },
  {
   "cell_type": "markdown",
   "metadata": {},
   "source": [
    "### Delete labeled data"
   ]
  },
  {
   "cell_type": "code",
   "execution_count": null,
   "metadata": {},
   "outputs": [],
   "source": [
    "visual_recognition.delete_user_data('my_customer_ID')"
   ]
  }
 ],
 "metadata": {
  "kernelspec": {
   "display_name": "Python 3",
   "language": "python",
   "name": "python3"
  },
  "language_info": {
   "codemirror_mode": {
    "name": "ipython",
    "version": 3
   },
   "file_extension": ".py",
   "mimetype": "text/x-python",
   "name": "python",
   "nbconvert_exporter": "python",
   "pygments_lexer": "ipython3",
   "version": "3.7.4"
  }
 },
 "nbformat": 4,
 "nbformat_minor": 2
}
