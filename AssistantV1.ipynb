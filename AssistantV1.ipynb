{
 "cells": [
  {
   "cell_type": "code",
   "execution_count": 414,
   "metadata": {},
   "outputs": [
    {
     "name": "stdout",
     "output_type": "stream",
     "text": [
      "Requirement already up-to-date: ibm-watson>=3.2.0 in /usr/local/lib/python3.7/site-packages (3.3.0)\n",
      "Requirement already satisfied, skipping upgrade: python-dateutil>=2.5.3 in /usr/local/lib/python3.7/site-packages (from ibm-watson>=3.2.0) (2.8.0)\n",
      "Requirement already satisfied, skipping upgrade: requests<3.0,>=2.0 in /usr/local/lib/python3.7/site-packages (from ibm-watson>=3.2.0) (2.22.0)\n",
      "Requirement already satisfied, skipping upgrade: ibm-cloud-sdk-core>=0.5.1 in /usr/local/lib/python3.7/site-packages (from ibm-watson>=3.2.0) (0.5.1)\n",
      "Requirement already satisfied, skipping upgrade: websocket-client==0.48.0 in /usr/local/lib/python3.7/site-packages (from ibm-watson>=3.2.0) (0.48.0)\n",
      "Requirement already satisfied, skipping upgrade: six>=1.5 in /usr/local/lib/python3.7/site-packages (from python-dateutil>=2.5.3->ibm-watson>=3.2.0) (1.12.0)\n",
      "Requirement already satisfied, skipping upgrade: chardet<3.1.0,>=3.0.2 in /usr/local/lib/python3.7/site-packages (from requests<3.0,>=2.0->ibm-watson>=3.2.0) (3.0.4)\n",
      "Requirement already satisfied, skipping upgrade: urllib3!=1.25.0,!=1.25.1,<1.26,>=1.21.1 in /usr/local/lib/python3.7/site-packages (from requests<3.0,>=2.0->ibm-watson>=3.2.0) (1.25.3)\n",
      "Requirement already satisfied, skipping upgrade: certifi>=2017.4.17 in /usr/local/lib/python3.7/site-packages (from requests<3.0,>=2.0->ibm-watson>=3.2.0) (2019.6.16)\n",
      "Requirement already satisfied, skipping upgrade: idna<2.9,>=2.5 in /usr/local/lib/python3.7/site-packages (from requests<3.0,>=2.0->ibm-watson>=3.2.0) (2.8)\n",
      "Requirement already satisfied, skipping upgrade: PyJWT>=1.7.1 in /usr/local/lib/python3.7/site-packages (from ibm-cloud-sdk-core>=0.5.1->ibm-watson>=3.2.0) (1.7.1)\n",
      "Note: you may need to restart the kernel to use updated packages.\n"
     ]
    }
   ],
   "source": [
    "pip install --upgrade \"ibm-watson>=3.2.0\""
   ]
  },
  {
   "cell_type": "code",
   "execution_count": 415,
   "metadata": {},
   "outputs": [],
   "source": [
    "import ibm_watson\n",
    "from ibm_watson import AssistantV1\n",
    "\n",
    "## Authentication\n",
    "version = \"2018-10-15\"\n",
    "apiKey = \"{api_key}\"\n",
    "url=\"{url}\""
   ]
  },
  {
   "cell_type": "code",
   "execution_count": 418,
   "metadata": {},
   "outputs": [],
   "source": [
    "assistant = ibm_watson.AssistantV1(version, iam_apikey= apiKey,  url=\"{url}\"\n",
    "def setUpAssistantV1():\n",
    "    return assistant\n",
    "\n",
    "\n",
    "def getWorkSpaceIDN():\n",
    "    response = assistant.list_workspaces()\n",
    "    result = response.result\n",
    "    workspaceID = result['workspaces'][0]['workspace_id']\n",
    "    if(workspaceID == None):\n",
    "        workspace = Assistant.createWorkspace(name = \"my_enviroment\", description = \"My enviroment\")\n",
    "        workspaceID = workspace.workspaceID\n",
    "    return workspaceID\n",
    "\n",
    "\n",
    "\n",
    "sampleIntent = 'hello'\n",
    "def createSampleIntent(workspace_id):\n",
    "    response = assistant.get_intent(workspace_id = workspace_id, intent = sampleIntent)\n",
    "    print(response)\n",
    "    if(response.status_code == '404'):\n",
    "        assistant.create_intent(workspace_id = workspace_id, intent= sample_intent)\n",
    "\n",
    "def deleteSampleIntent(workspaceID):\n",
    "    assistant.delete_intent(workspaceID = workspaceID, intent = sampleIntent)\n",
    "         \n",
    "sampleEntity = 'beverage'\n",
    "def createSampleEntity(workspace_id):\n",
    "    response = assistant.get_entity(workspace_id = workspace_id, entity = sampleEntity)\n",
    "    print(response)\n",
    "    if(response.status_code == '404'):\n",
    "        assistant.create_entity(workspace_id = workspace_id, entity = sample_entity)\n",
    "    return\n",
    "\n",
    "def deleteSampleEntity(workspaceID):\n",
    "    assistant.delete_Entity(workspaceID = workspaceID, intent = sampleIntent)\n",
    "    "
   ]
  },
  {
   "cell_type": "markdown",
   "metadata": {},
   "source": [
    "# Counterexamples"
   ]
  },
  {
   "cell_type": "code",
   "execution_count": 419,
   "metadata": {},
   "outputs": [],
   "source": [
    "service=ibm_watson.AssistantV1(\n",
    "    version='2019-02-28',\n",
    "    iam_apikey= \"{api_key}\" ,\n",
    "    url='{url}'\n",
    ")\n",
    "workspace_id = getWorkSpaceIDN()"
   ]
  },
  {
   "cell_type": "markdown",
   "metadata": {},
   "source": [
    "### list counterexamples"
   ]
  },
  {
   "cell_type": "code",
   "execution_count": 426,
   "metadata": {},
   "outputs": [
    {
     "name": "stdout",
     "output_type": "stream",
     "text": [
      "{\n",
      "  \"counterexamples\": [\n",
      "    {\n",
      "      \"text\": \"Make me a cheeseburger\"\n",
      "    },\n",
      "    {\n",
      "      \"text\": \"Make me a sub\"\n",
      "    }\n",
      "  ],\n",
      "  \"pagination\": {\n",
      "    \"refresh_url\": \"/v1/workspaces/4273c793-9e7f-4277-9a5d-e7c52b5757c1/counterexamples?version=2019-02-28\"\n",
      "  }\n",
      "}\n"
     ]
    }
   ],
   "source": [
    "response=service.list_counterexamples(workspace_id).get_result()\n",
    "\n",
    "print(json.dumps(response, indent=2))"
   ]
  },
  {
   "cell_type": "markdown",
   "metadata": {},
   "source": [
    "### Create Counterexample"
   ]
  },
  {
   "cell_type": "code",
   "execution_count": 421,
   "metadata": {},
   "outputs": [
    {
     "name": "stdout",
     "output_type": "stream",
     "text": [
      "{\n",
      "  \"text\": \"Make me a sandwich\"\n",
      "}\n"
     ]
    }
   ],
   "source": [
    "response=service.create_counterexample(\n",
    "    workspace_id=workspace_id,\n",
    "    text='Make me a sandwich'\n",
    ").get_result()\n",
    "\n",
    "print(json.dumps(response, indent=2))"
   ]
  },
  {
   "cell_type": "markdown",
   "metadata": {},
   "source": [
    "### Get Counterexample"
   ]
  },
  {
   "cell_type": "code",
   "execution_count": 422,
   "metadata": {},
   "outputs": [
    {
     "name": "stdout",
     "output_type": "stream",
     "text": [
      "{\n",
      "  \"text\": \"Make me a sandwich\"\n",
      "}\n"
     ]
    }
   ],
   "source": [
    "response=service.get_counterexample(\n",
    "    workspace_id=workspace_id,\n",
    "    text='Make me a sandwich'\n",
    ").get_result()\n",
    "\n",
    "print(json.dumps(response, indent=2))"
   ]
  },
  {
   "cell_type": "markdown",
   "metadata": {},
   "source": [
    "### Update Counterexample"
   ]
  },
  {
   "cell_type": "code",
   "execution_count": 425,
   "metadata": {},
   "outputs": [
    {
     "name": "stdout",
     "output_type": "stream",
     "text": [
      "{\n",
      "  \"text\": \"Make me a sub\"\n",
      "}\n"
     ]
    }
   ],
   "source": [
    "response=service.update_counterexample(\n",
    "    workspace_id=workspace_id,\n",
    "    text='Make me a sandwich',\n",
    "    new_text='Make me a sub'\n",
    ").get_result()\n",
    "\n",
    "print(json.dumps(response, indent=2))"
   ]
  },
  {
   "cell_type": "markdown",
   "metadata": {},
   "source": [
    "### Delete Counterexample"
   ]
  },
  {
   "cell_type": "code",
   "execution_count": 428,
   "metadata": {},
   "outputs": [
    {
     "name": "stdout",
     "output_type": "stream",
     "text": [
      "{}\n"
     ]
    }
   ],
   "source": [
    "response=service.delete_counterexample(\n",
    "    workspace_id=workspace_id,\n",
    "    text='Make me a sub'\n",
    ").get_result()\n",
    "\n",
    "print(json.dumps(response, indent=2))"
   ]
  },
  {
   "cell_type": "markdown",
   "metadata": {},
   "source": [
    "# Dialog nodes"
   ]
  },
  {
   "cell_type": "markdown",
   "metadata": {},
   "source": [
    "### List Dialog Nodes"
   ]
  },
  {
   "cell_type": "code",
   "execution_count": 429,
   "metadata": {},
   "outputs": [
    {
     "name": "stdout",
     "output_type": "stream",
     "text": [
      "{\n",
      "  \"dialog_nodes\": [],\n",
      "  \"pagination\": {\n",
      "    \"refresh_url\": \"/v1/workspaces/4273c793-9e7f-4277-9a5d-e7c52b5757c1/dialog_nodes?version=2019-02-28\"\n",
      "  }\n",
      "}\n"
     ]
    }
   ],
   "source": [
    "response=service.list_dialog_nodes(\n",
    "    workspace_id=workspace_id\n",
    ").get_result()\n",
    "\n",
    "print(json.dumps(response, indent=2))"
   ]
  },
  {
   "cell_type": "markdown",
   "metadata": {},
   "source": [
    "### Creat Dialog Nodes"
   ]
  },
  {
   "cell_type": "code",
   "execution_count": 430,
   "metadata": {},
   "outputs": [
    {
     "name": "stdout",
     "output_type": "stream",
     "text": [
      "{\n",
      "  \"type\": \"standard\",\n",
      "  \"title\": \"Greeting\",\n",
      "  \"conditions\": \"#hello\",\n",
      "  \"dialog_node\": \"greeting\"\n",
      "}\n"
     ]
    }
   ],
   "source": [
    "response=service.create_dialog_node(\n",
    "    workspace_id=workspace_id,\n",
    "    dialog_node='greeting',\n",
    "    conditions='#hello',\n",
    "    title='Greeting'\n",
    ").get_result()\n",
    "\n",
    "print(json.dumps(response, indent=2))"
   ]
  },
  {
   "cell_type": "markdown",
   "metadata": {},
   "source": [
    "###  Get Dialog Nodes"
   ]
  },
  {
   "cell_type": "code",
   "execution_count": 431,
   "metadata": {},
   "outputs": [
    {
     "name": "stdout",
     "output_type": "stream",
     "text": [
      "{\n",
      "  \"type\": \"standard\",\n",
      "  \"title\": \"Greeting\",\n",
      "  \"conditions\": \"#hello\",\n",
      "  \"dialog_node\": \"greeting\"\n",
      "}\n"
     ]
    }
   ],
   "source": [
    "response=service.get_dialog_node(\n",
    "    workspace_id=workspace_id,\n",
    "    dialog_node='greeting'\n",
    ").get_result()\n",
    "\n",
    "print(json.dumps(response, indent=2))"
   ]
  },
  {
   "cell_type": "markdown",
   "metadata": {},
   "source": [
    "### Update Dialog Nodes"
   ]
  },
  {
   "cell_type": "code",
   "execution_count": 432,
   "metadata": {},
   "outputs": [
    {
     "name": "stdout",
     "output_type": "stream",
     "text": [
      "{\n",
      "  \"type\": \"standard\",\n",
      "  \"title\": \"Greeting\",\n",
      "  \"output\": {\n",
      "    \"generic\": [\n",
      "      {\n",
      "        \"values\": [\n",
      "          {\n",
      "            \"text\": \"Hello! What can I do for you?\"\n",
      "          }\n",
      "        ],\n",
      "        \"response_type\": \"text\"\n",
      "      }\n",
      "    ]\n",
      "  },\n",
      "  \"conditions\": \"#hello\",\n",
      "  \"dialog_node\": \"greeting\"\n",
      "}\n"
     ]
    }
   ],
   "source": [
    "response=service.update_dialog_node(\n",
    "    workspace_id=workspace_id,\n",
    "    dialog_node='greeting',\n",
    "    new_output={\n",
    "        'generic': [\n",
    "            {\n",
    "                'response_type': 'text',\n",
    "                'values': [\n",
    "                    {\n",
    "                        'text': 'Hello! What can I do for you?'\n",
    "                    }\n",
    "                ]\n",
    "            }\n",
    "        ]\n",
    "    }\n",
    ").get_result()\n",
    "\n",
    "print(json.dumps(response, indent=2))"
   ]
  },
  {
   "cell_type": "markdown",
   "metadata": {},
   "source": [
    "### Delete Dialog Nodes"
   ]
  },
  {
   "cell_type": "code",
   "execution_count": 433,
   "metadata": {},
   "outputs": [
    {
     "name": "stdout",
     "output_type": "stream",
     "text": [
      "{}\n"
     ]
    }
   ],
   "source": [
    "response=service.delete_dialog_node(\n",
    "    workspace_id=workspace_id,\n",
    "    dialog_node='greeting'\n",
    ").get_result()\n",
    "\n",
    "print(json.dumps(response, indent=2))"
   ]
  },
  {
   "cell_type": "markdown",
   "metadata": {},
   "source": [
    "# Entities"
   ]
  },
  {
   "cell_type": "markdown",
   "metadata": {},
   "source": [
    "### List Entities"
   ]
  },
  {
   "cell_type": "code",
   "execution_count": 434,
   "metadata": {},
   "outputs": [
    {
     "name": "stdout",
     "output_type": "stream",
     "text": [
      "{\n",
      "  \"entities\": [\n",
      "    {\n",
      "      \"entity\": \"liquid\"\n",
      "    }\n",
      "  ],\n",
      "  \"pagination\": {\n",
      "    \"refresh_url\": \"/v1/workspaces/4273c793-9e7f-4277-9a5d-e7c52b5757c1/entities?version=2019-02-28\"\n",
      "  }\n",
      "}\n"
     ]
    }
   ],
   "source": [
    "response=service.list_entities(\n",
    "    workspace_id=workspace_id\n",
    ").get_result()\n",
    "\n",
    "print(json.dumps(response, indent=2))"
   ]
  },
  {
   "cell_type": "markdown",
   "metadata": {},
   "source": [
    "### Create Entity"
   ]
  },
  {
   "cell_type": "code",
   "execution_count": 436,
   "metadata": {},
   "outputs": [
    {
     "name": "stdout",
     "output_type": "stream",
     "text": [
      "{\n",
      "  \"entity\": \"water\"\n",
      "}\n"
     ]
    }
   ],
   "source": [
    "response=service.create_entity(\n",
    "    workspace_id=workspace_id,\n",
    "    entity='water',\n",
    "    values=[\n",
    "        {'value': 'water'},\n",
    "        {'value': 'orange juice'},\n",
    "        {'value': 'soda'}\n",
    "    ]\n",
    ").get_result()\n",
    "\n",
    "print(json.dumps(response, indent=2))"
   ]
  },
  {
   "cell_type": "markdown",
   "metadata": {},
   "source": [
    "### Get Entitiy"
   ]
  },
  {
   "cell_type": "code",
   "execution_count": 438,
   "metadata": {},
   "outputs": [
    {
     "name": "stdout",
     "output_type": "stream",
     "text": [
      "{\n",
      "  \"entity\": \"water\"\n",
      "}\n"
     ]
    }
   ],
   "source": [
    "response=service.get_entity(\n",
    "    workspace_id=workspace_id,\n",
    "    entity='water'\n",
    ").get_result()\n",
    "\n",
    "print(json.dumps(response, indent=2))"
   ]
  },
  {
   "cell_type": "markdown",
   "metadata": {},
   "source": [
    "### Update Entity"
   ]
  },
  {
   "cell_type": "code",
   "execution_count": null,
   "metadata": {},
   "outputs": [],
   "source": [
    "response=service.update_entity(\n",
    "    workspace_id=workspace_id,\n",
    "    entity='beverage',\n",
    "    new_description='Liquid refreshment'\n",
    ").get_result()\n",
    "\n",
    "print(json.dumps(response, indent=2))"
   ]
  },
  {
   "cell_type": "markdown",
   "metadata": {},
   "source": [
    "### Delete Entity"
   ]
  },
  {
   "cell_type": "code",
   "execution_count": null,
   "metadata": {},
   "outputs": [],
   "source": [
    "response=service.delete_entity(\n",
    "    workspace_id=workspace_id,\n",
    "    entity='beverage'\n",
    ").get_result()\n",
    "\n",
    "print(json.dumps(response, indent=2))"
   ]
  },
  {
   "cell_type": "markdown",
   "metadata": {},
   "source": [
    "# Examples"
   ]
  },
  {
   "cell_type": "markdown",
   "metadata": {},
   "source": [
    "### List User Input Examples"
   ]
  },
  {
   "cell_type": "code",
   "execution_count": null,
   "metadata": {},
   "outputs": [],
   "source": [
    "response=service.list_examples(\n",
    "    workspace_id=workspace_id,\n",
    "    intent='hello'\n",
    ").get_result()\n",
    "\n",
    "print(json.dumps(response, indent=2))"
   ]
  },
  {
   "cell_type": "markdown",
   "metadata": {},
   "source": [
    "### Create User Input Examples"
   ]
  },
  {
   "cell_type": "code",
   "execution_count": null,
   "metadata": {},
   "outputs": [],
   "source": [
    "response=service.create_example(\n",
    "    workspace_id=workspace_id,\n",
    "    intent='hello',\n",
    "    text='Howdy!'\n",
    ").get_result()\n",
    "\n",
    "print(json.dumps(response, indent=2))"
   ]
  },
  {
   "cell_type": "markdown",
   "metadata": {},
   "source": [
    "### Get User Input Examples"
   ]
  },
  {
   "cell_type": "code",
   "execution_count": null,
   "metadata": {},
   "outputs": [],
   "source": [
    "response=service.get_example(\n",
    "    workspace_id=workspace_id,\n",
    "    intent='hello',\n",
    "    text='Howdy!'\n",
    ").get_result()\n",
    "\n",
    "print(json.dumps(response, indent=2))"
   ]
  },
  {
   "cell_type": "markdown",
   "metadata": {},
   "source": [
    "### Update User Input Examples"
   ]
  },
  {
   "cell_type": "code",
   "execution_count": null,
   "metadata": {},
   "outputs": [],
   "source": [
    "response=service.update_example(\n",
    "    workspace_id=workspace_id,\n",
    "    intent='hello',\n",
    "    text='Hi there',\n",
    "    new_text='Hello there!'\n",
    ").get_result()\n",
    "\n",
    "print(json.dumps(response, indent=2))"
   ]
  },
  {
   "cell_type": "markdown",
   "metadata": {},
   "source": [
    "### Delete Input User Examples"
   ]
  },
  {
   "cell_type": "code",
   "execution_count": null,
   "metadata": {},
   "outputs": [],
   "source": [
    "response=service.delete_example(\n",
    "    workspace_id=workspace_id,\n",
    "    intent='hello',\n",
    "    text='Hello there!'\n",
    ").get_result()\n",
    "\n",
    "print(json.dumps(response, indent=2))"
   ]
  },
  {
   "cell_type": "markdown",
   "metadata": {},
   "source": [
    "# Intents"
   ]
  },
  {
   "cell_type": "markdown",
   "metadata": {},
   "source": [
    "### List Intents"
   ]
  },
  {
   "cell_type": "code",
   "execution_count": null,
   "metadata": {},
   "outputs": [],
   "source": [
    "response=service.list_intents(\n",
    "    workspace_id=workspace_id\n",
    ").get_result()\n",
    "\n",
    "print(json.dumps(response, indent=2))"
   ]
  },
  {
   "cell_type": "markdown",
   "metadata": {},
   "source": [
    "### Create Intents"
   ]
  },
  {
   "cell_type": "code",
   "execution_count": null,
   "metadata": {},
   "outputs": [],
   "source": [
    "response=service.create_intent(\n",
    "    workspace_id=workspace_id,\n",
    "    intent='hello',\n",
    "    examples=[\n",
    "        {'text': 'Good morning'},\n",
    "        {'text': 'Hi there'}\n",
    "    ]\n",
    ").get_result()\n",
    "\n",
    "print(json.dumps(response, indent=2))"
   ]
  },
  {
   "cell_type": "markdown",
   "metadata": {},
   "source": [
    "### Get Intents"
   ]
  },
  {
   "cell_type": "code",
   "execution_count": null,
   "metadata": {},
   "outputs": [],
   "source": [
    "response=service.list_intents(\n",
    "    workspace_id=workspace_id\n",
    ").get_result()\n",
    "\n",
    "print(json.dumps(response, indent=2))"
   ]
  },
  {
   "cell_type": "markdown",
   "metadata": {},
   "source": [
    "### Update Intents"
   ]
  },
  {
   "cell_type": "code",
   "execution_count": null,
   "metadata": {},
   "outputs": [],
   "source": [
    "response=service.update_intent(\n",
    "    workspace_id=workspace_id,\n",
    "    intent='hello',\n",
    "    new_examples=[\n",
    "        {'text': 'Good afternoon'}\n",
    "    ],\n",
    "    new_description='Updated intent'\n",
    ").get_result()\n",
    "\n",
    "print(json.dumps(response, indent=2))"
   ]
  },
  {
   "cell_type": "markdown",
   "metadata": {},
   "source": [
    "### Delete Intents"
   ]
  },
  {
   "cell_type": "code",
   "execution_count": null,
   "metadata": {},
   "outputs": [],
   "source": [
    "response=service.delete_intent(\n",
    "    workspace_id=workspace_id,\n",
    "    intent='hello'\n",
    ").get_result()\n",
    "\n",
    "print(json.dumps(response, indent=2))"
   ]
  },
  {
   "cell_type": "markdown",
   "metadata": {},
   "source": [
    "# Logs"
   ]
  },
  {
   "cell_type": "markdown",
   "metadata": {},
   "source": [
    "### List log events in a workspace"
   ]
  },
  {
   "cell_type": "code",
   "execution_count": null,
   "metadata": {},
   "outputs": [],
   "source": [
    "response=service.list_logs(\n",
    "    workspace_id=workspace_id\n",
    ").get_result()\n",
    "\n",
    "print(json.dumps(response, indent=2))"
   ]
  },
  {
   "cell_type": "markdown",
   "metadata": {},
   "source": [
    "### List log events in all workspaces"
   ]
  },
  {
   "cell_type": "code",
   "execution_count": null,
   "metadata": {},
   "outputs": [],
   "source": [
    "response=service.list_all_logs(\n",
    "    filter='language::en,request.context.metadata.deployment::testDeployment'\n",
    ").get_result()\n",
    "\n",
    "print(json.dumps(response, indent=2))"
   ]
  },
  {
   "cell_type": "markdown",
   "metadata": {},
   "source": [
    "# Mentions"
   ]
  },
  {
   "cell_type": "markdown",
   "metadata": {},
   "source": [
    "### List entity mentions"
   ]
  },
  {
   "cell_type": "code",
   "execution_count": null,
   "metadata": {},
   "outputs": [],
   "source": [
    "response=service.list_mentions(\n",
    "    workspace_id=workspace_id,\n",
    "    entity='beverage'\n",
    ").get_result()\n",
    "\n",
    "print(json.dumps(response, indent=2))"
   ]
  },
  {
   "cell_type": "markdown",
   "metadata": {},
   "source": [
    "# Message"
   ]
  },
  {
   "cell_type": "markdown",
   "metadata": {},
   "source": [
    "### Get response to user input"
   ]
  },
  {
   "cell_type": "code",
   "execution_count": null,
   "metadata": {},
   "outputs": [],
   "source": [
    "response = assistant.message(\n",
    "    workspace_id=workspace_id,\n",
    "    input={\n",
    "        'text': 'Hello'\n",
    "    }\n",
    ").get_result()\n",
    "\n",
    "print(json.dumps(response, indent=2))"
   ]
  },
  {
   "cell_type": "markdown",
   "metadata": {},
   "source": [
    "# Synonyms"
   ]
  },
  {
   "cell_type": "markdown",
   "metadata": {},
   "source": [
    "### List entity value synonyms"
   ]
  },
  {
   "cell_type": "code",
   "execution_count": null,
   "metadata": {},
   "outputs": [],
   "source": [
    "response=service.list_synonyms(\n",
    "    workspace_id=workspace_id,\n",
    "    entity='beverage',\n",
    "    value='soda'\n",
    ").get_result()\n",
    "\n",
    "print(json.dumps(response, indent=2))"
   ]
  },
  {
   "cell_type": "markdown",
   "metadata": {},
   "source": [
    "### Create entity value synonyms"
   ]
  },
  {
   "cell_type": "code",
   "execution_count": null,
   "metadata": {},
   "outputs": [],
   "source": [
    "response=service.create_synonym(\n",
    "    workspace_id=workspace_id,\n",
    "    entity='beverage',\n",
    "    value='orange juice',\n",
    "    synonym='OJ'\n",
    ").get_result()\n",
    "\n",
    "print(json.dumps(response, indent=2))"
   ]
  },
  {
   "cell_type": "markdown",
   "metadata": {},
   "source": [
    "### Get entity value synonyms"
   ]
  },
  {
   "cell_type": "code",
   "execution_count": null,
   "metadata": {},
   "outputs": [],
   "source": [
    "response=service.get_synonym(\n",
    "    workspace_id=workspace_id,\n",
    "    entity='beverage',\n",
    "    value='orange juice',\n",
    "    synonym='OJ'\n",
    ").get_result()\n",
    "\n",
    "print(json.dumps(response, indent=2))"
   ]
  },
  {
   "cell_type": "markdown",
   "metadata": {},
   "source": [
    "### Update entity value synonyms"
   ]
  },
  {
   "cell_type": "code",
   "execution_count": null,
   "metadata": {},
   "outputs": [],
   "source": [
    "response=service.update_synonym(\n",
    "    workspace_id=workspace_id,\n",
    "    entity='beverage',\n",
    "    value='orange juice',\n",
    "    synonym='OJ',\n",
    "    new_synonym='O.J.'\n",
    ").get_result()\n",
    "\n",
    "print(json.dumps(response, indent=2))"
   ]
  },
  {
   "cell_type": "markdown",
   "metadata": {},
   "source": [
    "### Delete entity value synonyms"
   ]
  },
  {
   "cell_type": "code",
   "execution_count": null,
   "metadata": {},
   "outputs": [],
   "source": [
    "response=service.delete_synonym(\n",
    "    workspace_id=workspace_id,\n",
    "    entity='beverage',\n",
    "    value='orange juice',\n",
    "    synonym='OJ'\n",
    ").get_result()\n",
    "\n",
    "print(json.dumps(response, indent=2))"
   ]
  },
  {
   "cell_type": "markdown",
   "metadata": {},
   "source": [
    "# User data"
   ]
  },
  {
   "cell_type": "markdown",
   "metadata": {},
   "source": [
    "### Deleted labeled data"
   ]
  },
  {
   "cell_type": "code",
   "execution_count": null,
   "metadata": {},
   "outputs": [],
   "source": [
    "response = assistant.delete_user_data(\n",
    "    customer_id = '{id}'\n",
    ").get_result()\n",
    "\n",
    "print(json.dumps(response, indent=2))"
   ]
  },
  {
   "cell_type": "markdown",
   "metadata": {},
   "source": [
    "# Values"
   ]
  },
  {
   "cell_type": "markdown",
   "metadata": {},
   "source": [
    "### List entity values"
   ]
  },
  {
   "cell_type": "code",
   "execution_count": null,
   "metadata": {},
   "outputs": [],
   "source": [
    "response=service.list_values(\n",
    "    workspace_id=workspace_id,\n",
    "    entity='beverage'\n",
    ").get_result()\n",
    "\n",
    "print(json.dumps(response, indent=2))"
   ]
  },
  {
   "cell_type": "markdown",
   "metadata": {},
   "source": [
    "### Create entity value"
   ]
  },
  {
   "cell_type": "code",
   "execution_count": null,
   "metadata": {},
   "outputs": [],
   "source": [
    "response=service.create_value(\n",
    "    workspace_id=workspace_id,\n",
    "    entity='beverage',\n",
    "    value='beer'\n",
    ").get_result()\n",
    "\n",
    "print(json.dumps(response, indent=2))"
   ]
  },
  {
   "cell_type": "markdown",
   "metadata": {},
   "source": [
    "### Get entity value"
   ]
  },
  {
   "cell_type": "code",
   "execution_count": null,
   "metadata": {},
   "outputs": [],
   "source": [
    "response=service.create_value(\n",
    "    workspace_id=workspace_id,\n",
    "    entity='beverage',\n",
    "    value='beers'\n",
    ").get_result()\n",
    "\n",
    "print(json.dumps(response, indent=2))"
   ]
  },
  {
   "cell_type": "markdown",
   "metadata": {},
   "source": [
    "### Update entity value"
   ]
  },
  {
   "cell_type": "code",
   "execution_count": null,
   "metadata": {},
   "outputs": [],
   "source": [
    "response=service.update_value(\n",
    "    workspace_id=workspace_id,\n",
    "    entity='beverage',\n",
    "    value='soda',\n",
    "    new_synonyms=['pop', 'soft drink']\n",
    ").get_result()\n",
    "\n",
    "print(json.dumps(response, indent=2))"
   ]
  },
  {
   "cell_type": "markdown",
   "metadata": {},
   "source": [
    "### Delete entity value"
   ]
  },
  {
   "cell_type": "code",
   "execution_count": null,
   "metadata": {},
   "outputs": [],
   "source": [
    "response=service.delete_value(\n",
    "    workspace_id=workspace_id,\n",
    "    entity='beverage',\n",
    "    value='beer'\n",
    ").get_result()\n",
    "\n",
    "print(json.dumps(response, indent=2))"
   ]
  },
  {
   "cell_type": "markdown",
   "metadata": {},
   "source": [
    "# Workspaces"
   ]
  },
  {
   "cell_type": "markdown",
   "metadata": {},
   "source": [
    "### List workspaces"
   ]
  },
  {
   "cell_type": "code",
   "execution_count": null,
   "metadata": {},
   "outputs": [],
   "source": [
    "response=service.list_workspaces().get_result()\n",
    "\n",
    "print(json.dumps(response, indent=2))"
   ]
  },
  {
   "cell_type": "markdown",
   "metadata": {},
   "source": [
    "### Create workspace"
   ]
  },
  {
   "cell_type": "code",
   "execution_count": null,
   "metadata": {},
   "outputs": [],
   "source": [
    "response=service.create_workspace(\n",
    "    name='API test',\n",
    "    description='Example workspace created via API'\n",
    ").get_result()\n",
    "\n",
    "print(json.dumps(response, indent=2))"
   ]
  },
  {
   "cell_type": "markdown",
   "metadata": {},
   "source": [
    "### Get information about a workspace"
   ]
  },
  {
   "cell_type": "code",
   "execution_count": null,
   "metadata": {},
   "outputs": [],
   "source": [
    "response=service.get_workspace(\n",
    "    workspace_id=workspace_id\n",
    ").get_result()\n",
    "\n",
    "print(json.dumps(response, indent=2))"
   ]
  },
  {
   "cell_type": "markdown",
   "metadata": {},
   "source": [
    "### Update workspace"
   ]
  },
  {
   "cell_type": "code",
   "execution_count": null,
   "metadata": {},
   "outputs": [],
   "source": [
    "response=service.update_workspace(\n",
    "    workspace_id=workspace_id,\n",
    "    name='Updated workspace',\n",
    "    description='Example workspace updated via API'\n",
    ").get_result()\n",
    "\n",
    "print(json.dumps(response, indent=2))"
   ]
  },
  {
   "cell_type": "markdown",
   "metadata": {},
   "source": [
    "### Delete workspace"
   ]
  },
  {
   "cell_type": "code",
   "execution_count": null,
   "metadata": {},
   "outputs": [],
   "source": [
    "response=service.delete_workspace(\n",
    "    workspace_id=workspace_id\n",
    ").get_result()\n",
    "\n",
    "print(json.dumps(response, indent=2))"
   ]
  },
  {
   "cell_type": "code",
   "execution_count": null,
   "metadata": {},
   "outputs": [],
   "source": []
  }
 ],
 "metadata": {
  "kernelspec": {
   "display_name": "Python 3",
   "language": "python",
   "name": "python3"
  },
  "language_info": {
   "codemirror_mode": {
    "name": "ipython",
    "version": 3
   },
   "file_extension": ".py",
   "mimetype": "text/x-python",
   "name": "python",
   "nbconvert_exporter": "python",
   "pygments_lexer": "ipython3",
   "version": "3.7.4"
  }
 },
 "nbformat": 4,
 "nbformat_minor": 2
}
