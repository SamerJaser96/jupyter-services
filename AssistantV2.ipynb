{
 "cells": [
  {
   "cell_type": "markdown",
   "metadata": {},
   "source": [
    "\n",
    "# Assistant V2"
   ]
  },
  {
   "cell_type": "code",
   "execution_count": null,
   "metadata": {},
   "outputs": [],
   "source": [
    "pip install --upgrade \"ibm-watson>=3.2.0\""
   ]
  },
  {
   "cell_type": "code",
   "execution_count": null,
   "metadata": {},
   "outputs": [],
   "source": [
    "import json\n",
    "from ibm_watson import AssistantV2\n",
    "\n",
    "## Authentication\n",
    "version = \"2018-10-15\"\n",
    "apiKey = '{api_key}'\n",
    "assistant = ibm_watson.AssistantV2(version = version, iam_apikey = apiKey)\n",
    "\n",
    "\n",
    "service=ibm_watson.AssistantV2(\n",
    "    version='2018-10-15',\n",
    "    iam_apikey= \"{api_key}\" ,\n",
    "    url='{url}'\n",
    ")\n"
   ]
  },
  {
   "cell_type": "markdown",
   "metadata": {},
   "source": [
    "## Sessions"
   ]
  },
  {
   "cell_type": "markdown",
   "metadata": {},
   "source": [
    "### Create a session"
   ]
  },
  {
   "cell_type": "code",
   "execution_count": null,
   "metadata": {},
   "outputs": [],
   "source": [
    "response = service.create_session(\n",
    "    assistant_id='{assistant_id}'\n",
    ").get_result()\n",
    "\n",
    "print(json.dumps(response, indent=2))"
   ]
  },
  {
   "cell_type": "markdown",
   "metadata": {},
   "source": [
    "### Delete a session"
   ]
  },
  {
   "cell_type": "code",
   "execution_count": null,
   "metadata": {},
   "outputs": [],
   "source": [
    "response = service.delete_session(\n",
    "    assistant_id='{assistant_id}',\n",
    "    session_id=\"ee8c6be5-1a84-434f-b3b6-26079c50686c\"\n",
    ").get_result()\n",
    "\n",
    "print(json.dumps(response, indent=2))"
   ]
  },
  {
   "cell_type": "markdown",
   "metadata": {},
   "source": [
    "## Message"
   ]
  },
  {
   "cell_type": "markdown",
   "metadata": {},
   "source": [
    "### Send user input into assistant"
   ]
  },
  {
   "cell_type": "code",
   "execution_count": null,
   "metadata": {},
   "outputs": [],
   "source": [
    "response = service.message(\n",
    "    assistant_id='{assistant_id}',\n",
    "    session_id='c57974c8-2650-481d-b2c6-0a27237aa9c7',\n",
    "    input={\n",
    "        'message_type': 'text',\n",
    "        'text': 'Hello'\n",
    "    }\n",
    ").get_result()\n",
    "\n",
    "print(json.dumps(response, indent=2))"
   ]
  },
  {
   "cell_type": "code",
   "execution_count": null,
   "metadata": {},
   "outputs": [],
   "source": []
  }
 ],
 "metadata": {
  "kernelspec": {
   "display_name": "Python 3",
   "language": "python",
   "name": "python3"
  },
  "language_info": {
   "codemirror_mode": {
    "name": "ipython",
    "version": 3
   },
   "file_extension": ".py",
   "mimetype": "text/x-python",
   "name": "python",
   "nbconvert_exporter": "python",
   "pygments_lexer": "ipython3",
   "version": "3.7.4"
  }
 },
 "nbformat": 4,
 "nbformat_minor": 2
}
