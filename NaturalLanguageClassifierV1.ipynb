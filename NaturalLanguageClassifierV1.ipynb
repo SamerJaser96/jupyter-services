{
 "cells": [
  {
   "cell_type": "markdown",
   "metadata": {},
   "source": [
    "# Natural Language Classifier V1"
   ]
  },
  {
   "cell_type": "code",
   "execution_count": null,
   "metadata": {},
   "outputs": [],
   "source": [
    "pip install --upgrade \"ibm-watson>=3.2.0\""
   ]
  },
  {
   "cell_type": "code",
   "execution_count": null,
   "metadata": {},
   "outputs": [],
   "source": [
    "import json\n",
    "from ibm_watson import NaturalLanguageClassifierV1\n",
    "\n",
    "## Authentication\n",
    "version = \"2018-10-15\"\n",
    "apiKey = '{api_key}'\n",
    "\n",
    "natural_language_classifier = ibm_watson.NaturalLanguageClassifierV1(version, iam_apikey= apiKey)"
   ]
  },
  {
   "cell_type": "markdown",
   "metadata": {},
   "source": [
    "## Classify text"
   ]
  },
  {
   "cell_type": "markdown",
   "metadata": {},
   "source": [
    "### Classify a phrase"
   ]
  },
  {
   "cell_type": "code",
   "execution_count": null,
   "metadata": {},
   "outputs": [],
   "source": [
    "classes = natural_language_classifier.classify('10D41B-nlc-1', 'How hot will it be today?').get_result()\n",
    "print(json.dumps(classes, indent=2))"
   ]
  },
  {
   "cell_type": "markdown",
   "metadata": {},
   "source": [
    "### Classify multiple phrases"
   ]
  },
  {
   "cell_type": "code",
   "execution_count": null,
   "metadata": {},
   "outputs": [],
   "source": [
    "classes = natural_language_classifier.classify_collection('10D41B-nlc-1', [{'text':'How hot will it be today?'}, {'text':'Is it hot outside?'}]).get_result()\n",
    "print(json.dumps(classes, indent=2))"
   ]
  },
  {
   "cell_type": "markdown",
   "metadata": {},
   "source": [
    "## Manage classifiers"
   ]
  },
  {
   "cell_type": "code",
   "execution_count": null,
   "metadata": {},
   "outputs": [],
   "source": [
    "with open('./train.csv', 'rb') as training_data:\n",
    "    classifier = natural_language_classifier.create_classifier(\n",
    "    training_data=training_data,\n",
    "    # before Python SDK v1.0.0, name and language were top-level parameters\n",
    "    metadata='{\"name\": \"My Classifier\",\"language\": \"en\"}'\n",
    "  ).get_result()\n",
    "print(json.dumps(classifier, indent=2))"
   ]
  },
  {
   "cell_type": "markdown",
   "metadata": {},
   "source": [
    "## List classifiers"
   ]
  },
  {
   "cell_type": "code",
   "execution_count": null,
   "metadata": {},
   "outputs": [],
   "source": [
    "classifiers = natural_language_classifier.list_classifiers().get_result()\n",
    "print(json.dumps(classifiers, indent=2))"
   ]
  },
  {
   "cell_type": "markdown",
   "metadata": {},
   "source": [
    "## Get information about a classifier"
   ]
  },
  {
   "cell_type": "code",
   "execution_count": null,
   "metadata": {},
   "outputs": [],
   "source": [
    "status = natural_language_classifier.get_classifier('10D41B-nlc-1').get_result()\n",
    "print (json.dumps(status, indent=2))"
   ]
  },
  {
   "cell_type": "markdown",
   "metadata": {},
   "source": [
    "## Delete classifier"
   ]
  },
  {
   "cell_type": "code",
   "execution_count": null,
   "metadata": {},
   "outputs": [],
   "source": [
    "status = natural_language_classifier.delete_classifier('10D41B-nlc-1').get_result()\n",
    "print(json.dumps(status, indent=2))"
   ]
  }
 ],
 "metadata": {
  "kernelspec": {
   "display_name": "Python 3",
   "language": "python",
   "name": "python3"
  },
  "language_info": {
   "codemirror_mode": {
    "name": "ipython",
    "version": 3
   },
   "file_extension": ".py",
   "mimetype": "text/x-python",
   "name": "python",
   "nbconvert_exporter": "python",
   "pygments_lexer": "ipython3",
   "version": "3.7.4"
  }
 },
 "nbformat": 4,
 "nbformat_minor": 2
}
